{
 "cells": [
  {
   "cell_type": "code",
   "execution_count": null,
   "id": "df670207",
   "metadata": {},
   "outputs": [],
   "source": [
    "#Say \"Hello, World!\" With Python\n",
    "\n",
    "if __name__ == '__main__':\n",
    "    print(\"Hello, World!\")"
   ]
  },
  {
   "cell_type": "code",
   "execution_count": null,
   "id": "1b467080",
   "metadata": {},
   "outputs": [],
   "source": [
    "#Python If-Else\n",
    "\n",
    "import math\n",
    "import os\n",
    "import random\n",
    "import re\n",
    "import sys\n",
    "\n",
    "\n",
    "\n",
    "if __name__ == '__main__':\n",
    "    n = int(input().strip())\n",
    "    if(n%2 != 0):\n",
    "        print(\"Weird\")\n",
    "    if(n%2 == 0):\n",
    "        if(n>=2 and n<6):\n",
    "            print(\"Not Weird\")\n",
    "        elif(n>=6 and n<21):\n",
    "            print(\"Weird\")\n",
    "        else:\n",
    "            print(\"Not Weird\")"
   ]
  },
  {
   "cell_type": "code",
   "execution_count": null,
   "id": "5b591d30",
   "metadata": {},
   "outputs": [],
   "source": [
    "#Arithmetic Operators\n",
    "\n",
    "if __name__ == '__main__':\n",
    "    a = int(input())\n",
    "    b = int(input())\n",
    "    print(a+b)\n",
    "    print(a-b)\n",
    "    print(a*b)"
   ]
  },
  {
   "cell_type": "code",
   "execution_count": null,
   "id": "25f2f575",
   "metadata": {},
   "outputs": [],
   "source": [
    "#Python: Division\n",
    "if __name__ == '__main__':\n",
    "    a = int(input())\n",
    "    b = int(input())\n",
    "    print(a//b)\n",
    "    print(float(a/b))"
   ]
  },
  {
   "cell_type": "code",
   "execution_count": null,
   "id": "1b35946d",
   "metadata": {},
   "outputs": [],
   "source": [
    "#Loops\n",
    "\n",
    "if __name__ == '__main__':\n",
    "    n = int(input())\n",
    "    for i in range(n):\n",
    "        print(i*i)"
   ]
  },
  {
   "cell_type": "code",
   "execution_count": null,
   "id": "d111e1fa",
   "metadata": {},
   "outputs": [],
   "source": [
    "#Write a function\n",
    "\n",
    "def is_leap(year):\n",
    "    leap = False\n",
    "    return year % 4 == 0 and (year % 100 != 0 or year % 400 == 0)\n",
    "        \n",
    "    # Write your logic here\n",
    "    \n",
    "    return leap\n",
    "\n",
    "year = int(input())\n",
    "print(is_leap(year))"
   ]
  },
  {
   "cell_type": "code",
   "execution_count": null,
   "id": "57643d0c",
   "metadata": {},
   "outputs": [],
   "source": [
    "#Print Function\n",
    "\n",
    "if __name__ == '__main__':\n",
    "    n = int(input())\n",
    "    for i in range(1,n+1):\n",
    "        print(i, end=\"\")"
   ]
  }
 ],
 "metadata": {
  "kernelspec": {
   "display_name": "Python 3 (ipykernel)",
   "language": "python",
   "name": "python3"
  },
  "language_info": {
   "codemirror_mode": {
    "name": "ipython",
    "version": 3
   },
   "file_extension": ".py",
   "mimetype": "text/x-python",
   "name": "python",
   "nbconvert_exporter": "python",
   "pygments_lexer": "ipython3",
   "version": "3.9.13"
  }
 },
 "nbformat": 4,
 "nbformat_minor": 5
}
